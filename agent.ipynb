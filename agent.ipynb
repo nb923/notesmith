{
 "cells": [
  {
   "cell_type": "markdown",
   "id": "5c82adaf-0368-4694-a780-d926f4dc30a5",
   "metadata": {},
   "source": [
    "# Notes Agent"
   ]
  },
  {
   "cell_type": "markdown",
   "id": "489b9a13-9a62-4529-92c6-64b53931776f",
   "metadata": {},
   "source": [
    "## Setting up llm"
   ]
  },
  {
   "cell_type": "code",
   "execution_count": 4,
   "id": "17c7e9ef-0811-4912-91a9-7daad057c092",
   "metadata": {},
   "outputs": [],
   "source": [
    "import os\n",
    "from dotenv import load_dotenv\n",
    "from langchain_openai import ChatOpenAI\n",
    "from langgraph.graph import StateGraph"
   ]
  },
  {
   "cell_type": "code",
   "execution_count": 5,
   "id": "7f298c18-db7f-464e-b96f-1d7a32e7473f",
   "metadata": {},
   "outputs": [
    {
     "data": {
      "text/plain": [
       "True"
      ]
     },
     "execution_count": 5,
     "metadata": {},
     "output_type": "execute_result"
    }
   ],
   "source": [
    "load_dotenv()"
   ]
  },
  {
   "cell_type": "code",
   "execution_count": 6,
   "id": "3517fdec-9511-4234-b78b-d1729ea85ba3",
   "metadata": {},
   "outputs": [],
   "source": [
    "llm = ChatOpenAI(openai_api_key=os.getenv(\"OPENAI_API_KEY\"), model=\"gpt-3.5-turbo\")"
   ]
  },
  {
   "cell_type": "markdown",
   "id": "4adb1f44-78a6-4c90-8891-bc5395ca3ed8",
   "metadata": {},
   "source": [
    "llm.invoke(\"Hi how are you\")"
   ]
  },
  {
   "cell_type": "markdown",
   "id": "d77f63c7-a434-44bf-b1ce-ecf00e1904b5",
   "metadata": {},
   "source": [
    "## Sample Graph"
   ]
  },
  {
   "cell_type": "code",
   "execution_count": 7,
   "id": "993d7d7b-90b1-4148-85d8-60eb019318f8",
   "metadata": {},
   "outputs": [],
   "source": [
    "from langgraph.graph import MessagesState\n",
    "\n",
    "class OverallState(MessagesState):\n",
    "    pass"
   ]
  },
  {
   "cell_type": "code",
   "execution_count": 8,
   "id": "59515863-a126-422e-8c0a-7e31ae864c75",
   "metadata": {},
   "outputs": [],
   "source": [
    "def node_1(state: MessagesState):\n",
    "    return {\"messages\": [llm.invoke(state[\"messages\"])]}"
   ]
  },
  {
   "cell_type": "code",
   "execution_count": 9,
   "id": "71d91d5e-3188-43bd-a62b-2a74ed0b78b8",
   "metadata": {},
   "outputs": [
    {
     "data": {
      "image/png": "[encoded data removed]",
      "text/plain": [
       "<IPython.core.display.Image object>"
      ]
     },
     "metadata": {},
     "output_type": "display_data"
    }
   ],
   "source": [
    "from IPython.display import Image, display\n",
    "from langgraph.graph import StateGraph, START, END\n",
    "\n",
    "builder = StateGraph(OverallState)\n",
    "\n",
    "builder.add_node(\"model\", node_1)\n",
    "\n",
    "builder.add_edge(START, \"model\")\n",
    "builder.add_edge(\"model\", END)\n",
    "\n",
    "graph = builder.compile()\n",
    "\n",
    "display(Image(graph.get_graph().draw_mermaid_png()))"
   ]
  },
  {
   "cell_type": "code",
   "execution_count": 10,
   "id": "879c47b1-4e6f-458c-8990-e31e1eab1868",
   "metadata": {},
   "outputs": [
    {
     "data": {
      "text/plain": [
       "{'messages': [HumanMessage(content='hi', additional_kwargs={}, response_metadata={}, id='ac62858c-2b13-4178-9c4e-a97d2f2c09d5'),\n",
       "  AIMessage(content='Hello! How can I assist you today?', additional_kwargs={'refusal': None}, response_metadata={'token_usage': {'completion_tokens': 9, 'prompt_tokens': 8, 'total_tokens': 17, 'completion_tokens_details': {'accepted_prediction_tokens': 0, 'audio_tokens': 0, 'reasoning_tokens': 0, 'rejected_prediction_tokens': 0}, 'prompt_tokens_details': {'audio_tokens': 0, 'cached_tokens': 0}}, 'model_name': 'gpt-3.5-turbo-0125', 'system_fingerprint': None, 'id': 'chatcmpl-Bio8RECh14Aai5hwhBg4MVYDSzkT9', 'service_tier': 'default', 'finish_reason': 'stop', 'logprobs': None}, id='run--b5fdbd0d-0c6b-4e95-b5a6-cbc2ae6693de-0', usage_metadata={'input_tokens': 8, 'output_tokens': 9, 'total_tokens': 17, 'input_token_details': {'audio': 0, 'cache_read': 0}, 'output_token_details': {'audio': 0, 'reasoning': 0}})]}"
      ]
     },
     "execution_count": 10,
     "metadata": {},
     "output_type": "execute_result"
    }
   ],
   "source": [
    "graph.invoke({\"messages\": [\"hi\"]})"
   ]
  },
  {
   "cell_type": "markdown",
   "id": "47153eb8-a009-47fa-8b3c-b655d9662bb6",
   "metadata": {},
   "source": [
    "## Sample reAct Agent"
   ]
  },
  {
   "cell_type": "code",
   "execution_count": 11,
   "id": "e6462804-8130-4b20-ae16-deb28f0044e0",
   "metadata": {},
   "outputs": [],
   "source": [
    "def add(a: int, b: int) -> int:\n",
    "    \"\"\"Add a and b\n",
    "\n",
    "    Args:\n",
    "        a: first int\n",
    "        b: second int\n",
    "    \"\"\"\n",
    "    return a + b\n",
    "\n",
    "def subtract(a: int, b: int) -> int:\n",
    "    \"\"\"Subtract b from a, so (a - b)\n",
    "\n",
    "    Args:\n",
    "        a: first int\n",
    "        b: second int\n",
    "    \"\"\"\n",
    "    return a - b\n",
    "\n",
    "def multiply(a: int, b: int) -> int:\n",
    "    \"\"\"Multiply a and b\n",
    "\n",
    "    Args:\n",
    "        a: first int\n",
    "        b: second int\n",
    "    \"\"\"\n",
    "    return a * b\n",
    "\n",
    "def divide(a: int, b: int) -> int:\n",
    "    \"\"\"Divide a by b\n",
    "\n",
    "    Args:\n",
    "        a: first int\n",
    "        b: second int\n",
    "    \"\"\"\n",
    "    return a / b\n",
    "\n",
    "tools = [add, subtract, multiply, divide]\n",
    "llm = ChatOpenAI(model=\"gpt-3.5-turbo\")\n",
    "llm_with_tools = llm.bind_tools(tools)"
   ]
  },
  {
   "cell_type": "code",
   "execution_count": 31,
   "id": "ccf4253d-2eac-45bc-b9ff-8f7e199cb0bc",
   "metadata": {},
   "outputs": [],
   "source": [
    "from langchain_core.messages import HumanMessage, SystemMessage\n",
    "\n",
    "sys_message = SystemMessage(content=\"You are an assistant that is tasked with performing basic four function math calculations. Take the expression given to you and find the smallest expression that you can calculate with the given numbers. Calculate that expression ONLY then get the value, then try to find the next smallest expression you can calculate and repeat. Do not perform multiple tool calls before getting responses for preceeding ones, one tool call at a time and get a response from a tool call before issuing another one.\")\n",
    "\n",
    "def model_node(state: MessagesState):\n",
    "    return {\"messages\": [llm_with_tools.invoke([sys_message] + state[\"messages\"])]}"
   ]
  },
  {
   "cell_type": "code",
   "execution_count": 32,
   "id": "de16c009-1554-45b0-b499-beef9049ec61",
   "metadata": {},
   "outputs": [
    {
     "data": {
      "image/png": "[encoded data removed]",
      "text/plain": [
       "<IPython.core.display.Image object>"
      ]
     },
     "metadata": {},
     "output_type": "display_data"
    }
   ],
   "source": [
    "from langgraph.prebuilt import tools_condition, ToolNode\n",
    "\n",
    "builder = StateGraph(OverallState)\n",
    "\n",
    "builder.add_node(\"model\", model_node)\n",
    "builder.add_node(\"tools\", ToolNode(tools))\n",
    "\n",
    "builder.add_edge(START, \"model\")\n",
    "builder.add_conditional_edges(\"model\", tools_condition)\n",
    "\n",
    "builder.add_edge(\"tools\", \"model\")\n",
    "\n",
    "react_model = builder.compile()\n",
    "\n",
    "display(Image(react_model.get_graph(xray=True).draw_mermaid_png()))"
   ]
  },
  {
   "cell_type": "code",
   "execution_count": 35,
   "id": "b88ab0b6-fca3-40c3-9ef2-1bc9219a8599",
   "metadata": {},
   "outputs": [
    {
     "name": "stdout",
     "output_type": "stream",
     "text": [
      "================================\u001b[1m Human Message \u001b[0m=================================\n",
      "\n",
      "Add 3 and 12, and multiply that by 2 and divide the entire thing by 10, then finally subtract 10\n",
      "==================================\u001b[1m Ai Message \u001b[0m==================================\n",
      "Tool Calls:\n",
      "  add (call_tS65kIFYImzbBQUEUXCPIRli)\n",
      " Call ID: call_tS65kIFYImzbBQUEUXCPIRli\n",
      "  Args:\n",
      "    a: 3\n",
      "    b: 12\n",
      "=================================\u001b[1m Tool Message \u001b[0m=================================\n",
      "Name: add\n",
      "\n",
      "15\n",
      "==================================\u001b[1m Ai Message \u001b[0m==================================\n",
      "Tool Calls:\n",
      "  multiply (call_KHQEfoRWOJJ36fwTv6He9RZn)\n",
      " Call ID: call_KHQEfoRWOJJ36fwTv6He9RZn\n",
      "  Args:\n",
      "    a: 15\n",
      "    b: 2\n",
      "=================================\u001b[1m Tool Message \u001b[0m=================================\n",
      "Name: multiply\n",
      "\n",
      "30\n",
      "==================================\u001b[1m Ai Message \u001b[0m==================================\n",
      "Tool Calls:\n",
      "  divide (call_bsVdcO42keHIrdRObKoYJBIq)\n",
      " Call ID: call_bsVdcO42keHIrdRObKoYJBIq\n",
      "  Args:\n",
      "    a: 30\n",
      "    b: 10\n",
      "=================================\u001b[1m Tool Message \u001b[0m=================================\n",
      "Name: divide\n",
      "\n",
      "3.0\n",
      "==================================\u001b[1m Ai Message \u001b[0m==================================\n",
      "Tool Calls:\n",
      "  subtract (call_Judsr9dflQIbDMYuX6kt3bj2)\n",
      " Call ID: call_Judsr9dflQIbDMYuX6kt3bj2\n",
      "  Args:\n",
      "    a: 3\n",
      "    b: 10\n",
      "=================================\u001b[1m Tool Message \u001b[0m=================================\n",
      "Name: subtract\n",
      "\n",
      "-7\n",
      "==================================\u001b[1m Ai Message \u001b[0m==================================\n",
      "\n",
      "The final result after adding 3 and 12, multiplying by 2, dividing by 10, and subtracting 10 is -7\n"
     ]
    }
   ],
   "source": [
    "from langgraph.checkpoint.memory import MemorySaver\n",
    "\n",
    "memory = MemorySaver()\n",
    "react_graph_memory = builder.compile(checkpointer = memory)\n",
    "\n",
    "config = {\"configurable\": {\"thread_id\": 1}}\n",
    "\n",
    "message = [HumanMessage(content=\"Add 3 and 12, and multiply that by 2 and divide the entire thing by 10, then finally subtract 10\")]\n",
    "\n",
    "messages = react_graph_memory.invoke({\"messages\": message}, config)\n",
    "\n",
    "for m in messages[\"messages\"]:\n",
    "    m.pretty_print()"
   ]
  },
  {
   "cell_type": "markdown",
   "id": "c67d9799-7c63-482a-9d18-501af6b835e7",
   "metadata": {},
   "source": [
    "## PDF Image Extraction"
   ]
  },
  {
   "cell_type": "code",
   "execution_count": 7,
   "id": "51f0ebaf-e2fb-4eae-8c1a-f5a534b19dfa",
   "metadata": {},
   "outputs": [
    {
     "name": "stdout",
     "output_type": "stream",
     "text": [
      "No images on page 0\n",
      "No images on page 1\n",
      "Found 4 images on page 2\n",
      "Image saved as image3_1.png\n",
      "Image saved as image3_2.png\n",
      "Image saved as image3_3.png\n",
      "Image saved as image3_4.png\n",
      "Found 1 images on page 3\n",
      "Image saved as image4_1.png\n",
      "No images on page 4\n",
      "No images on page 5\n",
      "No images on page 6\n",
      "No images on page 7\n",
      "No images on page 8\n",
      "No images on page 9\n",
      "No images on page 10\n",
      "No images on page 11\n",
      "No images on page 12\n",
      "No images on page 13\n",
      "No images on page 14\n",
      "No images on page 15\n",
      "No images on page 16\n",
      "No images on page 17\n",
      "No images on page 18\n",
      "No images on page 19\n",
      "No images on page 20\n",
      "No images on page 21\n",
      "No images on page 22\n",
      "No images on page 23\n",
      "No images on page 24\n",
      "No images on page 25\n",
      "No images on page 26\n",
      "No images on page 27\n",
      "No images on page 28\n",
      "No images on page 29\n",
      "No images on page 30\n",
      "No images on page 31\n",
      "Found 1 images on page 32\n",
      "Image saved as image33_1.png\n",
      "No images on page 33\n",
      "No images on page 34\n",
      "No images on page 35\n",
      "No images on page 36\n",
      "No images on page 37\n",
      "No images on page 38\n",
      "No images on page 39\n",
      "No images on page 40\n",
      "No images on page 41\n",
      "No images on page 42\n",
      "No images on page 43\n",
      "No images on page 44\n",
      "No images on page 45\n",
      "No images on page 46\n",
      "No images on page 47\n",
      "No images on page 48\n",
      "No images on page 49\n",
      "No images on page 50\n",
      "No images on page 51\n",
      "No images on page 52\n",
      "No images on page 53\n",
      "Found 2 images on page 54\n",
      "Image saved as image55_1.png\n",
      "Image saved as image55_2.png\n",
      "No images on page 55\n",
      "No images on page 56\n",
      "No images on page 57\n",
      "No images on page 58\n",
      "No images on page 59\n",
      "No images on page 60\n",
      "No images on page 61\n",
      "No images on page 62\n",
      "No images on page 63\n",
      "No images on page 64\n",
      "No images on page 65\n",
      "Found 1 images on page 66\n",
      "Image saved as image67_1.png\n",
      "No images on page 67\n",
      "No images on page 68\n",
      "No images on page 69\n",
      "No images on page 70\n",
      "No images on page 71\n",
      "No images on page 72\n",
      "No images on page 73\n",
      "No images on page 74\n",
      "No images on page 75\n",
      "No images on page 76\n",
      "No images on page 77\n",
      "No images on page 78\n",
      "No images on page 79\n",
      "No images on page 80\n",
      "No images on page 81\n",
      "Found 1 images on page 82\n",
      "Image saved as image83_1.png\n",
      "No images on page 83\n",
      "No images on page 84\n",
      "No images on page 85\n",
      "No images on page 86\n",
      "No images on page 87\n",
      "No images on page 88\n",
      "Found 1 images on page 89\n",
      "Image saved as image90_1.png\n",
      "No images on page 90\n",
      "No images on page 91\n",
      "No images on page 92\n",
      "No images on page 93\n",
      "No images on page 94\n",
      "No images on page 95\n",
      "No images on page 96\n",
      "No images on page 97\n",
      "No images on page 98\n",
      "No images on page 99\n",
      "No images on page 100\n",
      "No images on page 101\n"
     ]
    }
   ],
   "source": [
    "import fitz\n",
    "import io\n",
    "from PIL import Image\n",
    "import os\n",
    "\n",
    "file = \"./ai_agent_notes.pdf\"\n",
    "\n",
    "pdf_file = fitz.open(file)\n",
    "\n",
    "for page_index in range(len(pdf_file)):\n",
    "    page = pdf_file.load_page(page_index)\n",
    "    image_list = page.get_images(full = True)\n",
    "\n",
    "    if image_list:\n",
    "        print(f\"Found {len(image_list)} images on page {page_index}\")\n",
    "    else:\n",
    "        print(f\"No images on page {page_index}\")\n",
    "\n",
    "    for image_index, img in enumerate(image_list, start = 1):\n",
    "        xref = img[0]\n",
    "        \n",
    "        base_image = pdf_file.extract_image(xref)\n",
    "        image_bytes = base_image[\"image\"]\n",
    "\n",
    "        image_ext = base_image[\"ext\"]\n",
    "\n",
    "        image_name = f\"image{page_index + 1}_{image_index}.{image_ext}\"\n",
    "        image_path = os.path.join(\"images\", image_name)\n",
    "\n",
    "        with open(image_path, \"wb\") as image_file:\n",
    "            image_file.write(image_bytes)\n",
    "            print(f\"Image saved as {image_name}\")"
   ]
  }
 ],
 "metadata": {
  "kernelspec": {
   "display_name": "Python 3 (ipykernel)",
   "language": "python",
   "name": "python3"
  },
  "language_info": {
   "codemirror_mode": {
    "name": "ipython",
    "version": 3
   },
   "file_extension": ".py",
   "mimetype": "text/x-python",
   "name": "python",
   "nbconvert_exporter": "python",
   "pygments_lexer": "ipython3",
   "version": "3.13.2"
  }
 },
 "nbformat": 4,
 "nbformat_minor": 5
}
