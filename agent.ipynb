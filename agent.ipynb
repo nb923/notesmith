{
 "cells": [
  {
   "cell_type": "markdown",
   "id": "5c82adaf-0368-4694-a780-d926f4dc30a5",
   "metadata": {},
   "source": [
    "# Notes Agent"
   ]
  },
  {
   "cell_type": "markdown",
   "id": "489b9a13-9a62-4529-92c6-64b53931776f",
   "metadata": {},
   "source": [
    "## Setting up llm"
   ]
  },
  {
   "cell_type": "code",
   "execution_count": 1,
   "id": "17c7e9ef-0811-4912-91a9-7daad057c092",
   "metadata": {},
   "outputs": [],
   "source": [
    "import os\n",
    "from dotenv import load_dotenv\n",
    "from langchain_openai import ChatOpenAI\n",
    "from langgraph.graph import StateGraph"
   ]
  },
  {
   "cell_type": "code",
   "execution_count": 2,
   "id": "7f298c18-db7f-464e-b96f-1d7a32e7473f",
   "metadata": {},
   "outputs": [
    {
     "data": {
      "text/plain": [
       "True"
      ]
     },
     "execution_count": 2,
     "metadata": {},
     "output_type": "execute_result"
    }
   ],
   "source": [
    "load_dotenv()"
   ]
  },
  {
   "cell_type": "code",
   "execution_count": 3,
   "id": "3517fdec-9511-4234-b78b-d1729ea85ba3",
   "metadata": {},
   "outputs": [],
   "source": [
    "llm = ChatOpenAI(openai_api_key=os.getenv(\"OPENAI_API_KEY\"), model=\"gpt-3.5-turbo\")"
   ]
  },
  {
   "cell_type": "markdown",
   "id": "4adb1f44-78a6-4c90-8891-bc5395ca3ed8",
   "metadata": {},
   "source": [
    "llm.invoke(\"Hi how are you\")"
   ]
  },
  {
   "cell_type": "markdown",
   "id": "d77f63c7-a434-44bf-b1ce-ecf00e1904b5",
   "metadata": {},
   "source": [
    "# Sample Graph"
   ]
  },
  {
   "cell_type": "code",
   "execution_count": 10,
   "id": "993d7d7b-90b1-4148-85d8-60eb019318f8",
   "metadata": {},
   "outputs": [],
   "source": [
    "from langgraph.graph import MessagesState\n",
    "\n",
    "class OverallState(MessagesState):\n",
    "    pass"
   ]
  },
  {
   "cell_type": "code",
   "execution_count": 12,
   "id": "59515863-a126-422e-8c0a-7e31ae864c75",
   "metadata": {},
   "outputs": [],
   "source": [
    "def node_1(state: MessagesState):\n",
    "    return {\"messages\": [llm.invoke(state[\"messages\"])]}"
   ]
  },
  {
   "cell_type": "code",
   "execution_count": 13,
   "id": "71d91d5e-3188-43bd-a62b-2a74ed0b78b8",
   "metadata": {},
   "outputs": [
    {
     "data": {
      "image/png": "[encoded data removed]",
      "text/plain": [
       "<IPython.core.display.Image object>"
      ]
     },
     "metadata": {},
     "output_type": "display_data"
    }
   ],
   "source": [
    "from IPython.display import Image, display\n",
    "from langgraph.graph import StateGraph, START, END\n",
    "\n",
    "builder = StateGraph(OverallState)\n",
    "\n",
    "builder.add_node(\"model\", node_1)\n",
    "\n",
    "builder.add_edge(START, \"model\")\n",
    "builder.add_edge(\"model\", END)\n",
    "\n",
    "graph = builder.compile()\n",
    "\n",
    "display(Image(graph.get_graph().draw_mermaid_png()))"
   ]
  },
  {
   "cell_type": "code",
   "execution_count": 15,
   "id": "879c47b1-4e6f-458c-8990-e31e1eab1868",
   "metadata": {},
   "outputs": [
    {
     "data": {
      "text/plain": [
       "{'messages': [HumanMessage(content='hi', additional_kwargs={}, response_metadata={}, id='d8e87f39-6949-43c5-b44b-f9191d93981b'),\n",
       "  AIMessage(content='Hello! How are you today?', additional_kwargs={'refusal': None}, response_metadata={'token_usage': {'completion_tokens': 7, 'prompt_tokens': 8, 'total_tokens': 15, 'completion_tokens_details': {'accepted_prediction_tokens': 0, 'audio_tokens': 0, 'reasoning_tokens': 0, 'rejected_prediction_tokens': 0}, 'prompt_tokens_details': {'audio_tokens': 0, 'cached_tokens': 0}}, 'model_name': 'gpt-3.5-turbo-0125', 'system_fingerprint': None, 'id': 'chatcmpl-BiTjdcymFrnjh4f9wMlB8njQrse8M', 'service_tier': 'default', 'finish_reason': 'stop', 'logprobs': None}, id='run--6f0e5170-d2fb-4225-b9a5-d437b81e1763-0', usage_metadata={'input_tokens': 8, 'output_tokens': 7, 'total_tokens': 15, 'input_token_details': {'audio': 0, 'cache_read': 0}, 'output_token_details': {'audio': 0, 'reasoning': 0}})]}"
      ]
     },
     "execution_count": 15,
     "metadata": {},
     "output_type": "execute_result"
    }
   ],
   "source": [
    "graph.invoke({\"messages\": [\"hi\"]})"
   ]
  }
 ],
 "metadata": {
  "kernelspec": {
   "display_name": "Python 3 (ipykernel)",
   "language": "python",
   "name": "python3"
  },
  "language_info": {
   "codemirror_mode": {
    "name": "ipython",
    "version": 3
   },
   "file_extension": ".py",
   "mimetype": "text/x-python",
   "name": "python",
   "nbconvert_exporter": "python",
   "pygments_lexer": "ipython3",
   "version": "3.13.2"
  }
 },
 "nbformat": 4,
 "nbformat_minor": 5
}
